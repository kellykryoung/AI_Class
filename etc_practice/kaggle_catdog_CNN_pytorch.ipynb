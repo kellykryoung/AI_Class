{
  "nbformat": 4,
  "nbformat_minor": 0,
  "metadata": {
    "colab": {
      "provenance": [],
      "gpuType": "T4",
      "authorship_tag": "ABX9TyMRo+G011rY3OEF4JkI0veU",
      "include_colab_link": true
    },
    "kernelspec": {
      "name": "python3",
      "display_name": "Python 3"
    },
    "language_info": {
      "name": "python"
    },
    "accelerator": "GPU"
  },
  "cells": [
    {
      "cell_type": "markdown",
      "metadata": {
        "id": "view-in-github",
        "colab_type": "text"
      },
      "source": [
        "<a href=\"https://colab.research.google.com/github/kellykryoung/AI_Study/blob/main/etc_practice/kaggle_catdog_CNN_pytorch.ipynb\" target=\"_parent\"><img src=\"https://colab.research.google.com/assets/colab-badge.svg\" alt=\"Open In Colab\"/></a>"
      ]
    },
    {
      "cell_type": "code",
      "source": [
        "# date: 2023/10/22\n",
        "# data : https://www.kaggle.com/datasets/tongpython/cat-and-dog/?select=test_set\n",
        "# model : CNN model\n",
        "# purpose : classification between a cat or a dog (the number of labels : 2 )\n",
        "# libarary : pytorch\n",
        "# code reference: https://wikidocs.net/63565\n",
        "# mentor : https://github.com/shiny0510"
      ],
      "metadata": {
        "id": "wpmQQgqyUwYL"
      },
      "execution_count": 1,
      "outputs": []
    },
    {
      "cell_type": "code",
      "execution_count": 1,
      "metadata": {
        "id": "yQSeWW2qUj_T"
      },
      "outputs": [],
      "source": [
        "import os\n",
        "from tqdm import tqdm\n",
        "\n",
        "import torch\n",
        "from torch.utils.data import Dataset, DataLoader\n",
        "from torchvision import datasets\n",
        "from torch import nn, optim\n",
        "from torchvision import transforms\n",
        "from torchvision.transforms import ToPILImage\n",
        "import torchvision.transforms as T\n",
        "\n",
        "from PIL import Image\n",
        "\n",
        "import matplotlib.pyplot as plt\n",
        "import numpy as np"
      ]
    },
    {
      "cell_type": "code",
      "source": [
        "device = 'cuda' if torch.cuda.is_available() else 'cpu'\n",
        "\n",
        "# Random seed\n",
        "torch.manual_seed(777)\n",
        "\n",
        "# Random seed in GPU\n",
        "if device == 'cuda':\n",
        "    torch.cuda.manual_seed_all(777)\n",
        "\n",
        "# Hyper-parameters\n",
        "learning_rate = 0.001\n",
        "training_epochs =15\n",
        "batch_size = 100"
      ],
      "metadata": {
        "id": "LADNT9O6U_ai"
      },
      "execution_count": 2,
      "outputs": []
    },
    {
      "cell_type": "markdown",
      "source": [
        "### Data"
      ],
      "metadata": {
        "id": "beUvaofIkU-Z"
      }
    },
    {
      "cell_type": "code",
      "source": [
        "!unzip '/content/training_set.zip'"
      ],
      "metadata": {
        "id": "2tdhgnYYbzi4"
      },
      "execution_count": null,
      "outputs": []
    },
    {
      "cell_type": "code",
      "source": [
        "!unzip '/content/test_set.zip'"
      ],
      "metadata": {
        "id": "A1xq0swSb8ym"
      },
      "execution_count": null,
      "outputs": []
    },
    {
      "cell_type": "code",
      "source": [
        "class CustomDataset(Dataset):\n",
        "    def __init__(self, root_dir, transform=None):\n",
        "        self.root_dir = root_dir\n",
        "        self.transform = transform\n",
        "        self.classes = os.listdir(root_dir)\n",
        "        self.data = []\n",
        "\n",
        "\n",
        "        def is_image_file(file):\n",
        "            return file.endswith(('.jpg', '.jpeg', '.png', '.gif'))\n",
        "\n",
        "        for label in range(len(self.classes)):\n",
        "\n",
        "            class_folder = os.path.join(root_dir, self.classes[label])\n",
        "            for filename in os.listdir(class_folder):\n",
        "                if is_image_file(filename):\n",
        "                    try:\n",
        "                        img_path = os.path.join(class_folder, filename)\n",
        "                        self.data.append((img_path, label))\n",
        "                    except Exception as e:\n",
        "                        print(f\"Error processing {filename}: {e}\")\n",
        "                else:\n",
        "                    print(f\"Skipping non-image file: {filename}\")\n",
        "\n",
        "    def __len__(self):\n",
        "        return len(self.data)\n",
        "\n",
        "    def __getitem__(self, idx):\n",
        "        img_path, label = self.data[idx]\n",
        "        image = Image.open(img_path)\n",
        "        if self.transform:\n",
        "            image = self.transform(image)\n",
        "        return image, label\n"
      ],
      "metadata": {
        "id": "f3Y5gUIMWNHi"
      },
      "execution_count": 5,
      "outputs": []
    },
    {
      "cell_type": "code",
      "source": [
        "data_dir = \".\" #현재 작업 디렉토리로 설정\n",
        "batch_size = 32\n",
        "\n",
        "transform = T.Compose([T.Resize((224,224)),\n",
        "                       T.RandomRotation(5),\n",
        "                       T.RandomHorizontalFlip(),\n",
        "                           T.ToTensor(),\n",
        "                           T.Normalize(mean=[0.485, 0.456, 0.406], std=[0.229, 0.224, 0.225])\n",
        "                           ])\n",
        "\n",
        "# 01_dataset을 directory로 정의하기 (class 이용)\n",
        "train_dataset = CustomDataset(os.path.join(data_dir, 'training_set'), transform=transform)\n",
        "test_dataset = CustomDataset(os.path.join(data_dir, 'test_set'), transform=transform)\n",
        "\n",
        "# 02_dataloader\n",
        "train_loader = DataLoader(train_dataset, batch_size=batch_size, shuffle=True)\n",
        "test_loader = DataLoader(test_dataset, batch_size=batch_size, shuffle=False)\n",
        ""
      ],
      "metadata": {
        "id": "WE7OXKH8ZjDC"
      },
      "execution_count": 6,
      "outputs": []
    },
    {
      "cell_type": "markdown",
      "source": [
        "### Model"
      ],
      "metadata": {
        "id": "AGh-KnSfkZll"
      }
    },
    {
      "cell_type": "code",
      "source": [
        "class CNN(torch.nn.Module):\n",
        "\n",
        "    def __init__(self):\n",
        "        super(CNN, self).__init__()\n",
        "        # the First Layer\n",
        "        # ImgIn shape=(?, 224, 224, 3)\n",
        "        #    Conv     -> (?, 224, 224, 32)\n",
        "        #    Pool     -> (?, 112, 112, 32)\n",
        "        self.layer1 = torch.nn.Sequential(\n",
        "            torch.nn.Conv2d(3, 32, kernel_size=3, stride=1, padding=1),\n",
        "            torch.nn.ReLU(),\n",
        "            torch.nn.MaxPool2d(kernel_size=2, stride=2))\n",
        "\n",
        "        # the Second Layer\n",
        "        # ImgIn shape=(?, 112, 112, 32)\n",
        "        #    Conv      ->(?, 112, 112, 64)\n",
        "        #    Pool      ->(?, 56, 56, 64)\n",
        "        self.layer2 = torch.nn.Sequential(\n",
        "            torch.nn.Conv2d(32, 64, kernel_size=3, stride=1, padding=1),\n",
        "            torch.nn.ReLU(),\n",
        "            torch.nn.MaxPool2d(kernel_size=2, stride=2))\n",
        "\n",
        "        # the Third Layer\n",
        "        # ImgIn shape=(?, 56, 56, 64)\n",
        "        #    Conv      ->(?, 56, 56, 128)\n",
        "        #    Pool      ->(?, 28, 28, 128)\n",
        "\n",
        "        self.layer3 = torch.nn.Sequential(\n",
        "            torch.nn.Conv2d(64, 128, kernel_size=3, stride=1, padding=1),\n",
        "            torch.nn.ReLU(),\n",
        "            torch.nn.MaxPool2d(kernel_size=2, stride=2))\n",
        "\n",
        "        # the Fourth Layer\n",
        "        # ImgIn shape=(?, 28, 28, 128)\n",
        "        #    Conv      ->(?, 28, 28, 256)\n",
        "        #    Pool      ->(?, 14, 14, 256)\n",
        "\n",
        "        self.layer4 = torch.nn.Sequential(\n",
        "            torch.nn.Conv2d(128, 256, kernel_size=3, stride=1, padding=1),\n",
        "            torch.nn.ReLU(),\n",
        "            torch.nn.MaxPool2d(kernel_size=2, stride=2))\n",
        "\n",
        "        # the Fifth Layer\n",
        "        # ImgIn shape=(?, 14, 14, 256)\n",
        "        #    Conv      ->(?, 14, 14, 128)\n",
        "        #    Pool      ->(?, 7, 7, 128)\n",
        "        self.layer5 = torch.nn.Sequential(\n",
        "            torch.nn.Conv2d(256, 128, kernel_size=3, stride=1, padding=1),\n",
        "            torch.nn.ReLU(),\n",
        "            torch.nn.MaxPool2d(kernel_size=2, stride=2))\n",
        "\n",
        "\n",
        "        # Fully-connected Layer 7x7x128 inputs -> 2 outputs\n",
        "        self.fc = torch.nn.Linear(7 * 7 * 128, 2, bias=True)\n",
        "\n",
        "        # Initialized weight\n",
        "        torch.nn.init.xavier_uniform_(self.fc.weight)\n",
        "\n",
        "    def forward(self, x):\n",
        "        out = self.layer1(x)\n",
        "        out = self.layer2(out)\n",
        "        out = self.layer3(out)\n",
        "        out = self.layer4(out)\n",
        "        out = self.layer5(out)\n",
        "        out = out.view(out.size(0), -1)   #  Flatten\n",
        "        out = self.fc(out)\n",
        "        return out"
      ],
      "metadata": {
        "id": "9svkfxtNexL5"
      },
      "execution_count": 10,
      "outputs": []
    },
    {
      "cell_type": "code",
      "source": [
        "# model class\n",
        "device = torch.device(\"cuda\" if torch.cuda.is_available else \"cpu\")\n",
        "cnn_model = CNN().to(device)\n",
        "# samexpression\n",
        "# cnn_model = CNN()\n",
        "# cnn_model.to(device)"
      ],
      "metadata": {
        "id": "HXA4wOidpEg6"
      },
      "execution_count": null,
      "outputs": []
    },
    {
      "cell_type": "markdown",
      "source": [
        "### Optimizer"
      ],
      "metadata": {
        "id": "MajBw0L_kcFj"
      }
    },
    {
      "cell_type": "code",
      "source": [
        "criterion = torch.nn.CrossEntropyLoss().to(device)\n",
        "optimizer = torch.optim.SGD(cnn_model.parameters(), lr=0.001, momentum=0.9)"
      ],
      "metadata": {
        "id": "I5SSqhAlj9yi"
      },
      "execution_count": 12,
      "outputs": []
    },
    {
      "cell_type": "markdown",
      "source": [
        "### 'for' sentence for training"
      ],
      "metadata": {
        "id": "h8uAsEiwkhMt"
      }
    },
    {
      "cell_type": "code",
      "source": [
        "total_batch = len(train_loader)\n",
        "print('총 배치의 수 : {}'.format(total_batch))"
      ],
      "metadata": {
        "colab": {
          "base_uri": "https://localhost:8080/"
        },
        "id": "MCZ4VfPClzGE",
        "outputId": "5f6d311a-7b9f-4674-9275-11f022029b5c"
      },
      "execution_count": 13,
      "outputs": [
        {
          "output_type": "stream",
          "name": "stdout",
          "text": [
            "총 배치의 수 : 251\n"
          ]
        }
      ]
    },
    {
      "cell_type": "code",
      "source": [
        "num_epochs = 10\n",
        "best_loss = float('inf')  # Initialize the best loss as positive infinity\n",
        "patience = 3  # Number of epochs to wait before early stopping\n",
        "early_stop_counter = 0\n",
        "\n",
        "for epoch in tqdm(range(num_epochs)):\n",
        "    cnn_model.train()\n",
        "\n",
        "    running_loss = 0.0\n",
        "\n",
        "    for images, labels in train_loader:\n",
        "\n",
        "        try:\n",
        "            images, labels = images.to(device), labels.to(device)\n",
        "\n",
        "            hypothesis = cnn_model(images)\n",
        "            loss = criterion(hypothesis, labels)\n",
        "\n",
        "            optimizer.zero_grad()\n",
        "            loss.backward()\n",
        "            optimizer.step()\n",
        "            running_loss += loss.item()\n",
        "\n",
        "        except Exception as e:\n",
        "                print(f\"Error processing {images}:{e}\")\n",
        "\n",
        "\n",
        "    epoch_loss = running_loss / len(train_loader)\n",
        "    print(f\"Epoch {epoch+1}/{num_epochs}, Loss: {epoch_loss}\")\n",
        "\n",
        "     # Check for early stopping\n",
        "    if epoch_loss < best_loss:\n",
        "        best_loss = epoch_loss\n",
        "        early_stop_counter = 0\n",
        "        # Save the best model checkpoint\n",
        "        torch.save(cnn_model.state_dict(), 'best_model.pth')\n",
        "    else:\n",
        "        early_stop_counter += 1\n",
        "\n",
        "    if early_stop_counter >= patience:\n",
        "        print(\"Early stopping. Training stopped.\")\n",
        "        break\n",
        "\n",
        "# Load the best model checkpoint\n",
        "cnn_model.load_state_dict(torch.load('best_model.pth'))\n",
        "\n",
        "torch.save(cnn_model.state_dict(), 'cnn_model.pth')"
      ],
      "metadata": {
        "id": "MLR12FtQkdbF"
      },
      "execution_count": null,
      "outputs": []
    },
    {
      "cell_type": "markdown",
      "source": [
        "### Evaluation"
      ],
      "metadata": {
        "id": "avcDap8ZVrji"
      }
    },
    {
      "cell_type": "code",
      "source": [
        "cnn_model.eval()\n",
        "\n",
        "correct = 0\n",
        "total = 0\n",
        "with torch.no_grad():\n",
        "    for images, labels in test_loader:\n",
        "        images, labels = images.to(device), labels.to(device)\n",
        "\n",
        "        outputs = cnn_model(images)\n",
        "        _, predicted = torch.max(outputs, 1)\n",
        "\n",
        "        total += labels.size(0)\n",
        "        correct += (predicted == labels).sum().item()\n",
        "\n",
        "accuracy = 100 * correct / total\n",
        "print(f'Accuracy on test set: {accuracy}%')"
      ],
      "metadata": {
        "id": "5lR0Ylx5ql_m"
      },
      "execution_count": null,
      "outputs": []
    }
  ]
}