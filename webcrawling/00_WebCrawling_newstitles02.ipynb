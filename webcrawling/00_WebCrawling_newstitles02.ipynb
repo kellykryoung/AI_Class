{
  "nbformat": 4,
  "nbformat_minor": 0,
  "metadata": {
    "colab": {
      "provenance": [],
      "toc_visible": true,
      "authorship_tag": "ABX9TyPA7cvjhBilApul+wVakBux",
      "include_colab_link": true
    },
    "kernelspec": {
      "name": "python3",
      "display_name": "Python 3"
    },
    "language_info": {
      "name": "python"
    }
  },
  "cells": [
    {
      "cell_type": "markdown",
      "metadata": {
        "id": "view-in-github",
        "colab_type": "text"
      },
      "source": [
        "<a href=\"https://colab.research.google.com/github/kellykryoung/AI_Study/blob/main/webcrawling/00_WebCrawling_newstitles02.ipynb\" target=\"_parent\"><img src=\"https://colab.research.google.com/assets/colab-badge.svg\" alt=\"Open In Colab\"/></a>"
      ]
    },
    {
      "cell_type": "code",
      "execution_count": null,
      "metadata": {
        "id": "wAz2ZIe9zYhT"
      },
      "outputs": [],
      "source": [
        "# 2023.05\n",
        "# instructor : wonjae, lee"
      ]
    },
    {
      "cell_type": "markdown",
      "source": [
        "# 1. 부산엑스포 뉴스 기사제목 100개 가져오기\n"
      ],
      "metadata": {
        "id": "-JkFpl-LzoRs"
      }
    },
    {
      "cell_type": "code",
      "source": [
        "import requests\n",
        "from bs4 import BeautifulSoup"
      ],
      "metadata": {
        "id": "W9h9TsR9aRjF"
      },
      "execution_count": 1,
      "outputs": []
    },
    {
      "cell_type": "code",
      "source": [
        "url='https://search.daum.net/search?nil_suggest=btn&w=news&DA=PGD&cluster=y&q=%EB%B6%80%EC%82%B0%EC%97%91%EC%8A%A4%ED%8F%AC&p=5'\n",
        "requ = requests.get(url)\n"
      ],
      "metadata": {
        "id": "STFc1sLkaXK2"
      },
      "execution_count": 20,
      "outputs": []
    },
    {
      "cell_type": "code",
      "source": [
        "soup = BeautifulSoup(requ.content, 'lxml')\n",
        "soup"
      ],
      "metadata": {
        "id": "OWroXkrtbRLM"
      },
      "execution_count": null,
      "outputs": []
    },
    {
      "cell_type": "code",
      "source": [
        "a_tags = soup.select('a.tit_main')\n",
        "a_tags"
      ],
      "metadata": {
        "id": "US1lKc3pdNwI"
      },
      "execution_count": null,
      "outputs": []
    },
    {
      "cell_type": "code",
      "source": [
        "titles, urls = [], []\n",
        "\n",
        "for a_tag in a_tags:\n",
        "    titles.append(a_tag.text)\n",
        "    urls.append(a_tag['href'])\n",
        "\n",
        "news_info = {'제목':titles, '링크': urls}\n",
        "news_info"
      ],
      "metadata": {
        "id": "kTiJP02cdSPJ"
      },
      "execution_count": null,
      "outputs": []
    },
    {
      "cell_type": "markdown",
      "source": [
        "#### 1-1. 이중 반복문을 이용하여 기사제목 100개 출력하기\n",
        "\n",
        "1. url 10개 반복 requests get\n",
        "2. soup(html)에서 select한 a태그 10개 반복 title 파싱하여 출력"
      ],
      "metadata": {
        "id": "JwFLxokEfzuZ"
      }
    },
    {
      "cell_type": "code",
      "source": [
        "titles= []\n",
        "for i in range(1,11,1):\n",
        "    url = f'https://search.daum.net/search?nil_suggest=btn&w=news&DA=PGD&cluster=y&q=%EB%B6%80%EC%82%B0%EC%97%91%EC%8A%A4%ED%8F%AC&p={i}'\n",
        "    requ = requests.get(url)\n",
        "    soup = BeautifulSoup(requ.content,'lxml')\n",
        "    a_tags = soup.select('a.tit_main')\n",
        "\n",
        "    for a_tag in a_tags:\n",
        "        titles.append(a_tag.text)\n",
        "titles"
      ],
      "metadata": {
        "colab": {
          "base_uri": "https://localhost:8080/"
        },
        "id": "NiZJzG_tfgKM",
        "outputId": "66abeb13-14ac-414d-ea74-766c3a301f46"
      },
      "execution_count": 24,
      "outputs": [
        {
          "output_type": "execute_result",
          "data": {
            "text/plain": [
              "[\" 윤 대통령, '부산 엑스포 경쟁국' 사우디 방문 적절했나 \",\n",
              " ' 박형준 시장 \"부산 엑스포 유치 초박빙…개도국 표심 잡겠다\" ',\n",
              " ' LG, 영국 런던서 부산 엑스포 유치 지원 버스 210대 달린다 ',\n",
              " ' 2030 부산세계박람회 유치위원회에서 들어본 엑스포 개최의 모든 것 ',\n",
              " \" 런던에 등장한 '부산 버스'…'LG 엑스포 버스', 부산엑스포 유치 응원 \",\n",
              " ' 현대차그룹 부산엑스포 홍보 영상 1억뷰 돌파…유치전 총력 ',\n",
              " \" [산업 이모저모]부산엑스포 응원 'LG 엑스포 버스', 런던 시내 달린다 \",\n",
              " ' 박진 \"부산 엑스포 유치, 끝날 때까지 끝난 게 아니다\" ',\n",
              " ' 외국인도 부산엑스포 응원…한총리 \"\\'막꺾마\\' 정신으로 뛰겠다\" ',\n",
              " ' \"부산은 준비됐다\"…LG그룹, 유럽 주요 도시서 \\'부산엑스포\\' 막판 표심 공략 ',\n",
              " ' 프랑스 이어 벨기에·영국까지…LG, 부산엑스포 막판 유치전 총력 ',\n",
              " ' “런던 달리는 LG버스”...부산엑스포 막판 표심 공략 ',\n",
              " \" LG, 파리·런던 등 세계적인 명소서 '2030 부산엑스포' 유치 홍보 \",\n",
              " \" \\u200b부산시, 엑스포 개최지 '입증' 불꽃축제 내달 4일 개최 \",\n",
              " \" 9회말 투아웃 '대역전' 가능할까…부산엑스포 결판 한달 앞 \",\n",
              " ' CJ “K컬처 콘텐츠로 ‘2030 부산엑스포’ 개최 지원한다” ',\n",
              " \" LG, '2030 부산엑스포' 막판 유치전 힘 보태 \",\n",
              " \" LG, 유럽서 부산엑스포 막판 유치전…런던 시내에 '엑스포 버스' 투입 \",\n",
              " ' [부산엑스포, 재계가 뛴다] ② 삼성, 해외 인프라·평창 경험 살려 밀착 유치 활동 ',\n",
              " ' 내달 28일 부산엑스포 운명의 날…尹대통령 파리갈까 ',\n",
              " ' LG, 부산엑스포 막판유치전...유럽 표심 공략 홍보 ',\n",
              " \" 외교2차관, 중남미 외교단에 '부산 엑스포' 지지 요청 \",\n",
              " ' LG그룹, 부산엑스포 유치 총력전…영국·프랑스서 막판 표심 공략 ',\n",
              " ' [기획] `엑스포 유치` 49표 몰린 아프리카에 승부건다 ',\n",
              " \" [스트레이트뉴스 여론조사] 이재용, 부산엑스포 유치 선도...부상투혼 최태원, 유일 '↑' \",\n",
              " ' [부산엑스포, 재계가 뛴다] ① SK, 최태원 회장 중심으로 그룹 역량 총집결 ',\n",
              " ' \"\\'부산엑스포\\' 유치 기원\"…KCA, 업무 차량에 스티커 부착 ',\n",
              " ' 2030부산엑스포 유치 염원 담은 ‘제18회 부산불꽃축제’ 열린다 ',\n",
              " \" LG, 유럽서 '2030 부산엑스포' 유치 지원 활동 \",\n",
              " ' [2030 부산 엑스포] 파리 총력전…왜 한국? 왜 부산? ',\n",
              " \" KCA, '2030 부산엑스포' 유치 응원…무선국 검사차량 활용 홍보전 \",\n",
              " ' 파리서 K-POP 3만 관중 ‘떼창’…부산엑스포 대세몰이 ',\n",
              " ' “부산 엑스포 유치 응원합니다” ',\n",
              " ' 엑스포 최전선에서②…박형준 부산시장 \"마지막 10분\" ',\n",
              " ' 부산의 경험을 전 세계와 함께! 현대차그룹의 부산엑스포 유치 지원 영상 1억뷰 돌파 부산 유치 글로벌 공감대 확산 및 막판 BIE 회원국 표심 공략 기여 ',\n",
              " ' 부산엑스포 준비됐나? 준비됐다! ',\n",
              " ' 코리오제너레이션, 부산엑스포 유치 위한 ‘해상풍력 지역 공급망 로드쇼’ 개최 ',\n",
              " ' [월간중앙] “부산의 비전과 엑스포 유치전 맞물리며 시너지 효과 낳았다” ',\n",
              " \" [부산 엑스포, 우리가 뛴다=현대차그룹] 정의선 회장, EXPO 유치도 '퍼스트 무버' \",\n",
              " ' [부산 엑스포, 우리가 뛴다=SK그룹]부상 투혼 최태원 \"찬성표, 한톨도 안놓친다\" ',\n",
              " ' 부산엑스포 유치전 달군 K-POP 콘서트…파리 현지 언론 극찬 ',\n",
              " ' KCA 무선국 검사차량에 부산엑스포 유치 응원 문구 담았다 ',\n",
              " \" ‘부산엑스포’ 향한 ‘운명의 여신' 미소가 보인다는데 \",\n",
              " \" [부산 엑스포, 우리가 뛴다=HD현대그룹] '재계 세대교체 중심' 정기선, 그룹사 총동원령 \",\n",
              " ' 산업장관, 에티오피아 특사방문…부산엑스포 지지요청 친서 전달 ',\n",
              " ' \"부산 이즈 레디\"…LG 엑스포 버스’, 런던 시내 달린다 ',\n",
              " ' “대구포 아니! 부산 엑스포!” K할매 현란한 랩에 총리도 감동 ',\n",
              " ' 부산엑스포 응원 ‘LG 엑스포 버스’로 런던 홍보 ',\n",
              " ' [도청도설] 부산엑스포 랩 응원가 ',\n",
              " \" “하늘을 나는 부산 택시” 최태원 부산엑스포 유치전…SKT 'UAM' 따라붙는다 \",\n",
              " \" LGU+, '부산엑스포 유치 기원' 서빙로봇·이동기지국 운영 \",\n",
              " ' ‘지구 409바퀴’ 뛴 민관… 11월 파리서 ‘부산 유치 당위성’ 새긴다 [엑스포 투표 한 달 앞으로] ',\n",
              " ' 부산엑스포 유치전 막바지, 개도국 협력 프로그램으로 승부 ',\n",
              " ' 런던 시계탑 앞을 달리는 ‘부산엑스포 버스’[포토뉴스] ',\n",
              " ' 현대차그룹 부산엑스포 유치 지원 영상 1억뷰 돌파 ',\n",
              " ' 2030 부산엑스포 유치전 막바지···표심 잡기 사활 ',\n",
              " ' 현대차그룹 부산엑스포 홍보 영상 1억뷰 돌파…“막판 유치전 총력” ',\n",
              " \" 나이지리아 대통령 만난 원희룡...'부산 엑스포' 아프리카 표심 총력전 \",\n",
              " ' “부산 이즈 레디!”…LG ‘엑스포 버스’ 런던 시내 달린다 ',\n",
              " ' 통상본부장 \"부산엑스포, 승산 있는 게임…전력투구\"(종합) ',\n",
              " ' 한덕수 \"부산엑스포 위해 지구 400바퀴…연대의 시간 만들 것\"(종합) ',\n",
              " ' 한총리, 파리서 부산엑스포 유치 총력…佛총리 회담도(종합) ',\n",
              " \" [時論]사우디 '리야드' 간 대통령-'부산 촌동네' 망언 관광공사 부사장...부산엑스포는? \",\n",
              " ' [2030 부산 엑스포] \"마지막 10분 남았다\"…표심은 한국에 우호적 ',\n",
              " ' 현대차그룹, 부산엑스포 유치 지원 영상 1억뷰 돌파 ',\n",
              " ' ‘LG 엑스포 버스’, 런던·파리 시내 달린다 ',\n",
              " ' [2030 부산 엑스포 유치 A to Z (마지막회)] 화룡점정만 남긴 부산 엑스포 유치전 대장정 ',\n",
              " ' 한덕수 \"부산엑스포 위해 지구 400바퀴…연대의 시간 만들 것\" ',\n",
              " ' KCA, 차량 200여대에 스티커 부착…2030부산엑스포 유치 홍보·응원 ',\n",
              " ' 장성민 “尹, 부산엑스포에 강력한 애착…경쟁→연대 실현할 것” ',\n",
              " ' [스페셜리포트] 재계 다음달 파리 총출동...엑스포 부산 유치 전방위 활동 ',\n",
              " ' LG U+, 부산에서 2030 부산엑스포 유치 응원 ',\n",
              " ' 부산엑스포 응원송 만든 칠곡 할매들…한 총리 “누님들 감사”(종합) ',\n",
              " ' [세계를 가다]K팝에 기업까지…‘부산 엑스포’ 파리서 막판 스퍼트 ',\n",
              " ' 한 총리, 유럽 4개국 돌며 \\'부산 엑스포\\' 총력…\"막꺾마 정신\" ',\n",
              " ' 부산엑스포 유치 위해 160개국 방문 최태원 회장 ',\n",
              " ' [포토] \"부산은 준비가 됐다\"…LG그룹, 유럽서 \\'부산엑스포\\' 유치 총력 ',\n",
              " ' \"LGU+가 2030 부산엑스포 유치 응원합니다\" ',\n",
              " ' \\'엑스포는 부산엑스포!\\'…한 총리, 뮤비만든 칠곡 할매에 \"누님들 감사\" ',\n",
              " ' LG U+, 부산 엑스포 유치 응원 이벤트 전개 ',\n",
              " ' `파리지앵` 탄성 부른 K팝 콘서트…파리에 분 부산엑스포 유치 열풍 ',\n",
              " \" '부산유치 지지' LG 엑스포 버스, 런던 시내 달린다 \",\n",
              " \" 올 연말 롯데그룹 인사, '부산엑스포' 유치에 달렸다? \",\n",
              " ' LG유플러스, 2030 부산 엑스포 유치활동 박차 ',\n",
              " ' [만보정담]박형준 부산시장 \"부산 엑스포, 희망적인 조짐들 나타나고 있다\" ',\n",
              " ' [2030 부산 엑스포 특별기획] 119개국 방문·892회 교섭한 우리 기업들의 엑스포 유치 열망 ',\n",
              " ' 원희룡 “부산엑스포, 전쟁 이겨내야 하는 나라에 영감 줄 것” ',\n",
              " ' LG유플, ‘2030 부산엑스포’ 유치 기원 이벤트 ',\n",
              " ' 평균 85세 \\'칠곡 할매\\' 뮤비…\"부산 엑스포 유치 응원\" ',\n",
              " \" LGU+ '부산 엑스포' 유치 응원 행사 전개 \",\n",
              " ' ‘새로운 엑스포를 원해? 부산에 유치해!’ ',\n",
              " ' 칠곡 할매들, 부산 엑스포 응원 뮤비…한 총리 \"누님들 감사\" ',\n",
              " ' 김의장, G20의장회의 마치고 귀국…부산엑스포 지지 호소 ',\n",
              " \" 에티오피아 방문한 산업 장관, '부산엑스포 지지' 尹 친서 전달 \",\n",
              " ' 최태원 회장, SK경영진과 ‘부산엑스포’ 유치 막판 스퍼트 ',\n",
              " ' 박진 \"유럽·아프리카·중동, \\'부산 엑스포\\' 개최의 게임체인저\" ',\n",
              " ' 2030부산엑스포 유치 기원·통일염원 장애인 국토순례 ',\n",
              " ' SK그룹, 11월 조기 인사설 ‘솔솔’... 부산 엑스포가 변수 ',\n",
              " \" LG유플러스, '2030 부산 엑스포' 유치 응원 이벤트 전개 \",\n",
              " ' LG유플러스, 부산엑스포 유치 응원 전개 ']"
            ]
          },
          "metadata": {},
          "execution_count": 24
        }
      ]
    },
    {
      "cell_type": "code",
      "source": [
        "len(titles)"
      ],
      "metadata": {
        "colab": {
          "base_uri": "https://localhost:8080/"
        },
        "id": "oxXK1F3YhmX4",
        "outputId": "96f41f57-1a8f-4f2a-bea1-d4fa258efb70"
      },
      "execution_count": 25,
      "outputs": [
        {
          "output_type": "execute_result",
          "data": {
            "text/plain": [
              "100"
            ]
          },
          "metadata": {},
          "execution_count": 25
        }
      ]
    }
  ]
}